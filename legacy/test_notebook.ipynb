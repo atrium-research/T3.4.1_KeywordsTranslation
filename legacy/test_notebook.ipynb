{
 "cells": [
  {
   "cell_type": "markdown",
   "metadata": {},
   "source": [
    "This notebook is intended as a guide to start experimenting with the tools that have been set up for the task of translating keywords from the GoTriple platform and linking them to a controlled vocabulary. Before running this notebook, please make sure that you have installed all the dependencies specified in the file requirements.txt (this is not necessary if you are running this notebook using Binder as specified in the Github folder of the project). The notebook makes use of various functions that are defined in the files main_functions.py, data_utils.py and tools_utils.py. So, the first thing that we will do is to import the files."
   ]
  },
  {
   "cell_type": "code",
   "execution_count": 7,
   "metadata": {},
   "outputs": [
    {
     "data": {
      "text/plain": [
       "<module 'main_functions' from 'c:\\\\Users\\\\paolo\\\\Desktop\\\\T3.4.1_KeywordsTranslation\\\\main_functions.py'>"
      ]
     },
     "execution_count": 7,
     "metadata": {},
     "output_type": "execute_result"
    }
   ],
   "source": [
    "import os\n",
    "\n",
    "import main_functions\n",
    "import data_utils\n",
    "import tools_utils\n",
    "\n",
    "import importlib\n",
    "importlib.reload(data_utils)\n",
    "importlib.reload(tools_utils)\n",
    "importlib.reload(main_functions)"
   ]
  },
  {
   "cell_type": "markdown",
   "metadata": {},
   "source": [
    "The following part of this tutorial focuses on how to extract article data in a suitable format for the translation tool. We will deal with two cases: one in which we have the ID of a GoTriple article and we want to extract data, and the other in which we want to manually enter data for our own article.\n",
    "Given the ID of an article on the GoTriple platform, the following line of code allows you to get all the data needed (title, abstract, keywords) for the tools to work in the right format. We're taking here an article about French feminism."
   ]
  },
  {
   "cell_type": "code",
   "execution_count": 2,
   "metadata": {},
   "outputs": [
    {
     "data": {
      "text/plain": [
       "{'Language': 'fr',\n",
       " 'Id': '10670/1.nxegh0',\n",
       " 'Keywords': ['anthropologie',\n",
       "  'France',\n",
       "  'politique',\n",
       "  'représentation',\n",
       "  'image',\n",
       "  'États-Unis',\n",
       "  'art plastique',\n",
       "  'cinéma'],\n",
       " 'Title_eng': '12- from French kiss to French Feminism, the French cultural exception',\n",
       " 'Title_or': '12- Du French kiss au French Feminism, l’exception culturelle française',\n",
       " 'Abstract_eng': 'Most of the images of France originating in the United States are stereotypical, in particular those concerning love and sex. The French kiss and the French lover are seen as cynosures and French woman are often idealised; to such an extent in fact that charm and seduction are regarded as their defining attributes. While trying to define French feminism as presented both by French and American feminists, this paper will attempt to show how images and stereotypes play an important role in dividing the feminist movement and related cultural mores.',\n",
       " 'Abstract_or': None}"
      ]
     },
     "execution_count": 2,
     "metadata": {},
     "output_type": "execute_result"
    }
   ],
   "source": [
    "data = data_utils.get_item_by_id('10670%2F1.nxegh0')\n",
    "data"
   ]
  },
  {
   "cell_type": "markdown",
   "metadata": {},
   "source": [
    "Suppose now that we want to apply our tool to an article which is not in the GoTriple platform. The following is an interactive function which asks you to insert your own article data, and automatically formats the data you entered in a way that is suitable for the tool functions"
   ]
  },
  {
   "cell_type": "code",
   "execution_count": 3,
   "metadata": {},
   "outputs": [],
   "source": [
    "data = data_utils.get_item_from_user()"
   ]
  },
  {
   "cell_type": "code",
   "execution_count": 4,
   "metadata": {},
   "outputs": [
    {
     "data": {
      "text/plain": [
       "{'Language': 'fr',\n",
       " 'Id': None,\n",
       " 'Keywords': ['anthropologie',\n",
       "  'France',\n",
       "  'politique',\n",
       "  'représentation',\n",
       "  'image'],\n",
       " 'Title_eng': 'Most of the images of France',\n",
       " 'Title_or': 'Du French kiss au French Feminism',\n",
       " 'Abstract_eng': 'unknown',\n",
       " 'Abstract_or': 'unknown'}"
      ]
     },
     "execution_count": 4,
     "metadata": {},
     "output_type": "execute_result"
    }
   ],
   "source": [
    "data"
   ]
  },
  {
   "cell_type": "markdown",
   "metadata": {},
   "source": [
    "For the rest of this tutorial, we will now deal with articles from the GoTriple platform. In the rest of evaluation, we will be dealing with sample of data from different language. We will start by getting a sample of data (keywords with title and abstract to experiment with). We will do this by using the function get_sample. The function allows you to decide the size of the sample and the languages included in the sample (each language will be equally represented in the sample). Let's try with English, French and Portuguese. Please, check the file data_utils.py if you are interested in more detail about the function. "
   ]
  },
  {
   "cell_type": "code",
   "execution_count": 3,
   "metadata": {},
   "outputs": [],
   "source": [
    "data = data_utils.get_sample(['en', 'fr', 'pt'], 100)"
   ]
  },
  {
   "cell_type": "markdown",
   "metadata": {},
   "source": [
    "Now we analyze an item from the extracted sample for each language."
   ]
  },
  {
   "cell_type": "code",
   "execution_count": 5,
   "metadata": {},
   "outputs": [
    {
     "name": "stdout",
     "output_type": "stream",
     "text": [
      "{'Language': 'en', 'Id': 'oai:revues.org:lhomme/21745', 'Keywords': ['Dravidian Kinship', 'Africa', 'Evolutionism', 'Historicism'], 'Title_eng': 'Dravidian Kinship Systems in Africa', 'Title_or': 'Dravidian Kinship Systems in Africa', 'Abstract_eng': 'AbstractDravidianate kinship systems based on a rule of bilateral cross-cousin marriage are usually taken as the starting point in universal theories of kinship evolution while Iroquois systems, which lack such a rule, are regarded as devolved versions of Dravidian systems. Dravidian and Iroquois systems, however, have an uneven geographical distribution. The former are well known from South Asia, Australia and America but not from Europe or Africa, while the latter are known from many regions of the world but not from South Asia. The purpose of this paper is to describe a Dravidian kinship system in a Bantu-speaking society and to suggest the presence or former presence of Dravidianate systems elsewhere in Africa.', 'Abstract_or': 'AbstractDravidianate kinship systems based on a rule of bilateral cross-cousin marriage are usually taken as the starting point in universal theories of kinship evolution while Iroquois systems, which lack such a rule, are regarded as devolved versions of Dravidian systems. Dravidian and Iroquois systems, however, have an uneven geographical distribution. The former are well known from South Asia, Australia and America but not from Europe or Africa, while the latter are known from many regions of the world but not from South Asia. The purpose of this paper is to describe a Dravidian kinship system in a Bantu-speaking society and to suggest the presence or former presence of Dravidianate systems elsewhere in Africa.'}\n",
      "{'Language': 'fr', 'Id': '10670/1.xdwpij', 'Keywords': ['Fémicide', 'féminicide', 'législation', 'répression', 'prévention'], 'Title_eng': 'Integrating, defining, suppressing and preventing “femicide/femicide” in Latin America', 'Title_or': 'Intégrer, définir, réprimer et prévenir le « fémicide/féminicide » en Amérique latine', 'Abstract_eng': 'Femicide and feminicide generally designate the killings of women in Latin America. This deadly violence is such that States mobilize their legislative and judicial apparatus in an attempt to put an end to it. However, this phenomenon seems to increase. To explain this paradox from a legal point of view, this study analyses the different legislations through four axes : the integration of the crime of femicide/feminicide into the existing normative frame, its definition, its repression and its prevention, highlighting their advantages and disadvantages.', 'Abstract_or': \"Les termes fémicide/féminicide désignent généralement les meurtres des femmes en Amérique latine. Cette violence meurtrière est telle que certains États mobilisent leurs appareils législatif et judiciaire pour tenter d'y mettre fin. Cependant, le phénomène semble s'accentuer. Afin d'expliquer ce paradoxe d'un point de vue juridique, cette étude analyse les différentes législations à travers quatre axes : l'intégration dans le tissu normatif existant du crime de fémicide/féminicide, sa définition, sa répression et sa prévention, en mettant en lumière leurs avantages et leurs inconvénients.\"}\n",
      "{'Language': 'pt', 'Id': 'oai:revues.org:eces/1016', 'Keywords': ['muçulmanos', 'casamento', 'mulheres', 'diálogo', 'feminismo'], 'Title_eng': '‘Caution with love’. Statements by the Lisbon Cardeal seen by the Portuguese press', 'Title_or': '“Cautela com os amores”. Declarações do Cardeal de Lisboa vistas pela imprensa portuguesa', 'Abstract_eng': ' Cardeal Patriarca de Lisbon, in a sausage in 2009, commented on the marriage of Portuguese women with Muslims and the dialogue with them. The Portuguese press echoed these statements, emphasising fundamentally the issue of marriage and the ‘situation of Muslim women’. This article provides a critical reading of newspaper news as well as opinion articles and editorial material on the subject, using the textual structure analysis tools proposed by Teun van Dijk and Michelle Lazar. The aim of this analysis is to make visible the logic of opposition between “us” and “them”, present in the texts and focusing on the issue of Muslim women, as well as arguments representing “hegemonic feminism”.', 'Abstract_or': 'O Cardeal Patriarca de Lisboa, numa tertúlia ocorrida em 2009, teceu considerações sobre o casamento de mulheres portuguesas com muçulmanos e sobre o diálogo com estes. A imprensa portuguesa fez eco destas afirmações, acentuando, fundamentalmente, a questão do casamento, bem como da “situação das mulheres muçulmanas”. O presente artigo procede a uma leitura crítica de notícias de jornal, bem como de artigos de opinião e de um editorial sobre o assunto, recorrendo às ferramentas de análise da estrutura textual propostas por Teun van Dijk e por Michelle Lazar. A análise apresentada visa tornar visível a lógica de oposição entre “nós” e “eles”, presente nos textos e focalizada na questão das mulheres muçulmanas, bem como argumentações representativas do “feminismo hegemónico”.'}\n"
     ]
    }
   ],
   "source": [
    "test_item_en = data[0]\n",
    "test_item_fr = data[10]\n",
    "test_item_pt = data[15]\n",
    "print(test_item_en)\n",
    "print(test_item_fr)\n",
    "print(test_item_pt)"
   ]
  },
  {
   "cell_type": "markdown",
   "metadata": {},
   "source": [
    "After we have extracted an item to experiment with, let's use each one of the different tools that have been set up. Let's start with DBPedia Spotlight (DBPedia Spotlight is an application for named entity linking - see https://www.dbpedia-spotlight.org/). First, we will extract URIs for the English example."
   ]
  },
  {
   "cell_type": "code",
   "execution_count": 5,
   "metadata": {},
   "outputs": [
    {
     "data": {
      "text/plain": [
       "[{'Form': 'anthropologie',\n",
       "  'DBPediaURI': 'http://fr.dbpedia.org/resource/Anthropologie',\n",
       "  'WikidataURI': None},\n",
       " {'Form': 'France',\n",
       "  'DBPediaURI': 'http://fr.dbpedia.org/resource/France',\n",
       "  'WikidataURI': None}]"
      ]
     },
     "execution_count": 5,
     "metadata": {},
     "output_type": "execute_result"
    }
   ],
   "source": [
    "output = main_functions.useDBPediaSpotlight(test_item_en, False)\n",
    "output"
   ]
  },
  {
   "cell_type": "markdown",
   "metadata": {},
   "source": [
    "Even if DBPedia Spotlight can work with different language, the performance of the tool is poorer if we switch from English. We can see that if we work with the French example, only a subset of the keywords are linked in the final output. Moreover, the functionality that allows to link DBPedia URI to Wikidata ones is not available (an analysis of reasons leading to this can be found in the file main_functions.py, before the definition of useDBPediaSpotlight). This can also be seen with the Portuguese example. In some cases, we can get error since DBPedia does not find any linking in the given text."
   ]
  },
  {
   "cell_type": "code",
   "execution_count": 5,
   "metadata": {},
   "outputs": [
    {
     "data": {
      "text/plain": [
       "[{'Form': 'féminicide',\n",
       "  'DBPediaURI': 'http://fr.dbpedia.org/resource/Féminicide',\n",
       "  'WikidataURI': None}]"
      ]
     },
     "execution_count": 5,
     "metadata": {},
     "output_type": "execute_result"
    }
   ],
   "source": [
    "output = main_functions.useDBPediaSpotlight(test_item_fr, False)\n",
    "output"
   ]
  },
  {
   "cell_type": "code",
   "execution_count": 6,
   "metadata": {},
   "outputs": [
    {
     "data": {
      "text/plain": [
       "[{'Form': 'feminismo',\n",
       "  'DBPediaURI': 'http://pt.dbpedia.org/resource/Feminismo',\n",
       "  'WikidataURI': None}]"
      ]
     },
     "execution_count": 6,
     "metadata": {},
     "output_type": "execute_result"
    }
   ],
   "source": [
    "output = main_functions.useDBPediaSpotlight(test_item_pt, False)\n",
    "output"
   ]
  },
  {
   "cell_type": "markdown",
   "metadata": {},
   "source": [
    "Now we will use a LLM to get the linking. More precisely, the LLM translates keywords into entities that (should) have a page on WikiData (this is what we asked it via prompt). Then, the WikiData API is used to get the URIs. The file main_functions.py provides functions to experiment with open-source LLMs (using quantized models via the llama.cpp library, which allows running without a GPU) and with proprietary models by OpenAI. Let's first use Mistral-7B-Instruct (the model given by default by the function tools_utils.loadLLM), starting with the English example.\n",
    "\n",
    "Via the parameter context, we give the model only the title of the keywords' article as context.\n",
    "\n",
    "As can be seen, the execution is quite slow. The model tends to produce a richer set of keywords. "
   ]
  },
  {
   "cell_type": "code",
   "execution_count": 9,
   "metadata": {},
   "outputs": [
    {
     "data": {
      "text/plain": [
       "[{'Keyword': 'Dravidian_people',\n",
       "  'URI': 'http://www.wikidata.org/entity/Q69798'},\n",
       " {'Keyword': 'Dravidian_languages',\n",
       "  'URI': 'http://www.wikidata.org/entity/Q33311'},\n",
       " {'Keyword': 'Dravidian_culture', 'URI': ''},\n",
       " {'Keyword': 'Social_organization_of_the_Dravidian_people', 'URI': ''},\n",
       " {'Keyword': 'Africa', 'URI': 'http://www.wikidata.org/entity/Q15'},\n",
       " {'Keyword': 'History_of_Africa',\n",
       "  'URI': 'http://www.wikidata.org/entity/Q149813'},\n",
       " {'Keyword': 'Demography_of_Africa', 'URI': ''},\n",
       " {'Keyword': 'Culture_of_Africa',\n",
       "  'URI': 'http://www.wikidata.org/entity/Q149416'},\n",
       " {'Keyword': 'Evolutionism', 'URI': 'http://www.wikidata.org/entity/Q1076026'},\n",
       " {'Keyword': 'Theory_of_evolution',\n",
       "  'URI': 'http://www.wikidata.org/entity/Q11640129'},\n",
       " {'Keyword': 'Charles_Darwin', 'URI': 'http://www.wikidata.org/entity/Q1035'},\n",
       " {'Keyword': 'Social_Darwinism',\n",
       "  'URI': 'http://www.wikidata.org/entity/Q202261'},\n",
       " {'Keyword': 'Historicism', 'URI': 'http://www.wikidata.org/entity/Q277466'},\n",
       " {'Keyword': 'New_Historical_Jurisprudence', 'URI': ''},\n",
       " {'Keyword': 'Wilhelm_Dilthey',\n",
       "  'URI': 'http://www.wikidata.org/entity/Q60080'},\n",
       " {'Keyword': 'Carl_Schmitt', 'URI': 'http://www.wikidata.org/entity/Q77148'}]"
      ]
     },
     "execution_count": 9,
     "metadata": {},
     "output_type": "execute_result"
    }
   ],
   "source": [
    "llm = tools_utils.loadLLM()\n",
    "\n",
    "output = main_functions.useLLM(test_item_en, llm, context=\"Title\")\n",
    "output"
   ]
  },
  {
   "cell_type": "markdown",
   "metadata": {},
   "source": [
    "Let's now try with the French and the Portuguese example. As can be seen (especially from the Portuguese example), the output is richer than the DBPedia one. "
   ]
  },
  {
   "cell_type": "code",
   "execution_count": 10,
   "metadata": {},
   "outputs": [
    {
     "name": "stderr",
     "output_type": "stream",
     "text": [
      "c:\\Python311\\Lib\\site-packages\\llama_cpp\\llama.py:1054: RuntimeWarning: Detected duplicate leading \"<s>\" in prompt, this will likely reduce response quality, consider removing it...\n",
      "  warnings.warn(\n"
     ]
    },
    {
     "data": {
      "text/plain": [
       "[{'Keyword': 'Femicide', 'URI': 'http://www.wikidata.org/entity/Q1342425'},\n",
       " {'Keyword': 'Femicide', 'URI': 'http://www.wikidata.org/entity/Q1342425'},\n",
       " {'Keyword': 'Legislation', 'URI': 'http://www.wikidata.org/entity/Q49371'},\n",
       " {'Keyword': 'Repression (criminal law)', 'URI': ''},\n",
       " {'Keyword': 'Prevention (health and social welfare)', 'URI': ''}]"
      ]
     },
     "execution_count": 10,
     "metadata": {},
     "output_type": "execute_result"
    }
   ],
   "source": [
    "output = main_functions.useLLM(test_item_fr, llm, context=\"Title\")\n",
    "output"
   ]
  },
  {
   "cell_type": "code",
   "execution_count": 11,
   "metadata": {},
   "outputs": [
    {
     "name": "stderr",
     "output_type": "stream",
     "text": [
      "c:\\Python311\\Lib\\site-packages\\llama_cpp\\llama.py:1054: RuntimeWarning: Detected duplicate leading \"<s>\" in prompt, this will likely reduce response quality, consider removing it...\n",
      "  warnings.warn(\n"
     ]
    },
    {
     "data": {
      "text/plain": [
       "[{'Keyword': 'Islam', 'URI': 'http://www.wikidata.org/entity/Q432'},\n",
       " {'Keyword': 'Muslims', 'URI': 'http://www.wikidata.org/entity/Q1137457'},\n",
       " {'Keyword': 'Marriage', 'URI': 'http://www.wikidata.org/entity/Q8445'},\n",
       " {'Keyword': 'Matrimony', 'URI': 'http://www.wikidata.org/entity/Q3851974'},\n",
       " {'Keyword': 'Woman', 'URI': 'http://www.wikidata.org/entity/Q467'},\n",
       " {'Keyword': 'Female', 'URI': 'http://www.wikidata.org/entity/Q6581072'},\n",
       " {'Keyword': \"Women's rights\",\n",
       "  'URI': 'http://www.wikidata.org/entity/Q223569'},\n",
       " {'Keyword': 'Dialogue', 'URI': 'http://www.wikidata.org/entity/Q131395'},\n",
       " {'Keyword': 'Communication', 'URI': 'http://www.wikidata.org/entity/Q11024'},\n",
       " {'Keyword': 'Feminism', 'URI': 'http://www.wikidata.org/entity/Q7252'},\n",
       " {'Keyword': \"Women's rights movement\",\n",
       "  'URI': 'http://www.wikidata.org/entity/Q53028786'}]"
      ]
     },
     "execution_count": 11,
     "metadata": {},
     "output_type": "execute_result"
    }
   ],
   "source": [
    "output = main_functions.useLLM(test_item_pt, llm, context=\"Title\")\n",
    "output"
   ]
  },
  {
   "cell_type": "markdown",
   "metadata": {},
   "source": [
    "Now, we will experiment with a proprietary OpenAI model. Authentication is required to use the OpenAI API. The following code block allows authentication (please insert your OpenAI key)"
   ]
  },
  {
   "cell_type": "code",
   "execution_count": 6,
   "metadata": {},
   "outputs": [],
   "source": [
    "import os\n",
    "\n",
    "os.environ['OPENAI_API_KEY'] = \"YOUR OPENAI KEY HERE\"\n",
    "client = tools_utils.openAI_authentication(os.environ.get(\"OPENAI_API_KEY\"))"
   ]
  },
  {
   "cell_type": "markdown",
   "metadata": {},
   "source": [
    "Now that we are authenticated, we can experiment with the model. We start with the English example. As can be seen, the function available to use the model allows to choose the model. In this example, we will make use of gpt-3.5-turbo. As with the open-source model, we give only the title of the article as context. We can see that so far using a proprietary model gives the best possible answer. "
   ]
  },
  {
   "cell_type": "code",
   "execution_count": 17,
   "metadata": {},
   "outputs": [
    {
     "name": "stdout",
     "output_type": "stream",
     "text": [
      "<s>[INST] {Map each keyword to one or more relevant WikiData entities.\n",
      "        Keywords are from a scientific article. \n",
      "        The keyword list is: anthropologie, France, politique, représentation, image. \n",
      "        An example of answer for the list of keywords: literary life, literary fact, doing things\n",
      "        is: literary life: [literature]; literary fact: [literature], [fact]; doing things: [activity]\n",
      "        Please, don't match keywords to the code of WikiData entities (e.g., Q123456), but to the entity name.\n",
      "        INCLUDE EACH SEPARATE ENTITY BETWEEN [] IN THE ANSWER } [/INST]\n",
      "    \n",
      "anthropologie: [anthropology]; France: [France]; politique: [politics]; représentation: [representation], [depiction]; image: [image], [representation]\n"
     ]
    },
    {
     "data": {
      "text/plain": [
       "[{'Keyword': 'anthropology', 'URI': 'http://www.wikidata.org/entity/Q23404'},\n",
       " {'Keyword': 'France', 'URI': 'http://www.wikidata.org/entity/Q142'},\n",
       " {'Keyword': 'politics', 'URI': 'http://www.wikidata.org/entity/Q7163'},\n",
       " {'Keyword': 'representation',\n",
       "  'URI': 'http://www.wikidata.org/entity/Q4393498'},\n",
       " {'Keyword': 'depiction', 'URI': 'http://www.wikidata.org/entity/Q115491052'},\n",
       " {'Keyword': 'image', 'URI': 'http://www.wikidata.org/entity/Q478798'},\n",
       " {'Keyword': 'representation',\n",
       "  'URI': 'http://www.wikidata.org/entity/Q4393498'}]"
      ]
     },
     "execution_count": 17,
     "metadata": {},
     "output_type": "execute_result"
    }
   ],
   "source": [
    "output = main_functions.useOpenAILLM(test_item_en, \"gpt-4o-mini\", \"Title\", client)\n",
    "output"
   ]
  },
  {
   "cell_type": "markdown",
   "metadata": {},
   "source": [
    "In order to switch to another language example, replace the first argument of the function like in the code below"
   ]
  },
  {
   "cell_type": "code",
   "execution_count": 39,
   "metadata": {},
   "outputs": [
    {
     "data": {
      "text/plain": [
       "[{'Keyword': 'femicide', 'URI': 'http://www.wikidata.org/entity/Q1342425'},\n",
       " {'Keyword': 'violence against women',\n",
       "  'URI': 'http://www.wikidata.org/entity/Q1800556'},\n",
       " {'Keyword': 'femicide', 'URI': 'http://www.wikidata.org/entity/Q1342425'},\n",
       " {'Keyword': 'gender-based violence',\n",
       "  'URI': 'http://www.wikidata.org/entity/Q81552270'},\n",
       " {'Keyword': 'legislation', 'URI': 'http://www.wikidata.org/entity/Q49371'},\n",
       " {'Keyword': 'law', 'URI': 'http://www.wikidata.org/entity/Q7748'},\n",
       " {'Keyword': 'legal system', 'URI': 'http://www.wikidata.org/entity/Q2478386'},\n",
       " {'Keyword': 'suppression', 'URI': 'http://www.wikidata.org/entity/Q23056310'},\n",
       " {'Keyword': 'repression', 'URI': 'http://www.wikidata.org/entity/Q106781680'},\n",
       " {'Keyword': 'law enforcement',\n",
       "  'URI': 'http://www.wikidata.org/entity/Q44554'},\n",
       " {'Keyword': 'prevention', 'URI': 'http://www.wikidata.org/entity/Q1717246'},\n",
       " {'Keyword': 'public health', 'URI': 'http://www.wikidata.org/entity/Q189603'},\n",
       " {'Keyword': 'risk reduction',\n",
       "  'URI': 'http://www.wikidata.org/entity/Q67098987'}]"
      ]
     },
     "execution_count": 39,
     "metadata": {},
     "output_type": "execute_result"
    }
   ],
   "source": [
    "output = main_functions.useOpenAILLM(test_item_fr, \"gpt-3.5-turbo\", \"Title\", client)\n",
    "output"
   ]
  },
  {
   "cell_type": "markdown",
   "metadata": {},
   "source": [
    "The tool also integrate efficient use of open source LLMs via Groq API"
   ]
  },
  {
   "cell_type": "code",
   "execution_count": 8,
   "metadata": {},
   "outputs": [],
   "source": [
    "os.environ['GROQ_KEY'] = \"YOUR GROQ KEY HERE\"\n",
    "groq_client = tools_utils.groq_authentication(os.environ.get(\"GROQ_KEY\"))"
   ]
  },
  {
   "cell_type": "markdown",
   "metadata": {},
   "source": [
    "Now that we are authenticated, we can experiment with open models with the Groq API. As can be seen, the function available to use the model allows to choose the model. In this example, we will make use of a light model, llama-3.2-3b. As can be seen, the results are promising, which suggests that smaller open models could be a good fit for this task"
   ]
  },
  {
   "cell_type": "code",
   "execution_count": 15,
   "metadata": {},
   "outputs": [],
   "source": [
    "output = main_functions.useGroqLLM(test_item_fr, \"llama-3.2-3b-preview\", \"Title\", groq_client)"
   ]
  },
  {
   "cell_type": "code",
   "execution_count": 16,
   "metadata": {},
   "outputs": [
    {
     "data": {
      "text/plain": [
       "[{'Keyword': 'Femicide', 'URI': 'http://www.wikidata.org/entity/Q1342425'},\n",
       " {'Keyword': 'Violence Against Women',\n",
       "  'URI': 'http://www.wikidata.org/entity/Q1800556'},\n",
       " {'Keyword': 'Femicide', 'URI': 'http://www.wikidata.org/entity/Q1342425'},\n",
       " {'Keyword': 'Violence Against Women',\n",
       "  'URI': 'http://www.wikidata.org/entity/Q1800556'},\n",
       " {'Keyword': 'Legislation', 'URI': 'http://www.wikidata.org/entity/Q49371'},\n",
       " {'Keyword': 'Law', 'URI': 'http://www.wikidata.org/entity/Q7748'},\n",
       " {'Keyword': 'Policy', 'URI': 'http://www.wikidata.org/entity/Q1156854'},\n",
       " {'Keyword': 'Suppression', 'URI': 'http://www.wikidata.org/entity/Q23056310'},\n",
       " {'Keyword': 'Repression', 'URI': 'http://www.wikidata.org/entity/Q106781680'},\n",
       " {'Keyword': 'Oppression', 'URI': 'http://www.wikidata.org/entity/Q252000'},\n",
       " {'Keyword': 'Prevention', 'URI': 'http://www.wikidata.org/entity/Q1717246'},\n",
       " {'Keyword': 'Preventive medicine',\n",
       "  'URI': 'http://www.wikidata.org/entity/Q1773974'},\n",
       " {'Keyword': 'Public health', 'URI': 'http://www.wikidata.org/entity/Q189603'}]"
      ]
     },
     "execution_count": 16,
     "metadata": {},
     "output_type": "execute_result"
    }
   ],
   "source": [
    "output"
   ]
  },
  {
   "cell_type": "code",
   "execution_count": null,
   "metadata": {},
   "outputs": [],
   "source": []
  }
 ],
 "metadata": {
  "kernelspec": {
   "display_name": "Python 3",
   "language": "python",
   "name": "python3"
  },
  "language_info": {
   "codemirror_mode": {
    "name": "ipython",
    "version": 3
   },
   "file_extension": ".py",
   "mimetype": "text/x-python",
   "name": "python",
   "nbconvert_exporter": "python",
   "pygments_lexer": "ipython3",
   "version": "3.11.0"
  }
 },
 "nbformat": 4,
 "nbformat_minor": 2
}
